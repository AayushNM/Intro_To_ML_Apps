{
  "nbformat": 4,
  "nbformat_minor": 0,
  "metadata": {
    "anaconda-cloud": {},
    "celltoolbar": "Slideshow",
    "colab": {
      "name": "Aayush_Nitin_Maheshwarkar_HW3.ipynb",
      "provenance": [],
      "collapsed_sections": [],
      "toc_visible": true,
      "include_colab_link": true
    },
    "kernelspec": {
      "display_name": "Python 3",
      "language": "python",
      "name": "python3"
    },
    "language_info": {
      "codemirror_mode": {
        "name": "ipython",
        "version": 3
      },
      "file_extension": ".py",
      "mimetype": "text/x-python",
      "name": "python",
      "nbconvert_exporter": "python",
      "pygments_lexer": "ipython3",
      "version": "3.7.6"
    }
  },
  "cells": [
    {
      "cell_type": "markdown",
      "metadata": {
        "id": "view-in-github",
        "colab_type": "text"
      },
      "source": [
        "<a href=\"https://colab.research.google.com/github/AayushNM/Intro_To_ML_Apps/blob/main/Aayush_Nitin_Maheshwarkar_HW3.ipynb\" target=\"_parent\"><img src=\"https://colab.research.google.com/assets/colab-badge.svg\" alt=\"Open In Colab\"/></a>"
      ]
    },
    {
      "cell_type": "markdown",
      "metadata": {
        "id": "hSXsCkclbiAj"
      },
      "source": [
        "# Assignment 3\n",
        "\n",
        "![](https://github.com/rpi-techfundamentals/hm-01-starter/blob/master/notsaved.png?raw=1)\n",
        "\n",
        "**Save your working file in Google drive so that all changes will be saved as you work. MAKE SURE that your final version is saved to GitHub.** \n",
        "\n",
        "Before you turn this in, make sure everything runs as expected. First, restart the kernel (in the menu, select Kernel → Restart) and then run all cells (in the menubar, select Cell → Run All).  You can speak with others regarding the assignment but all work must be your own. \n",
        "\n",
        "\n",
        "## This is a 30 point assignment.\n",
        "\n",
        "**You may find it useful to go through the notebooks from the course materials when doing these exercises.**\n",
        "\n",
        "**If you attempt to fake passing the tests you will receive a 0 on the assignment and it will be considered an ethical violation.**\n"
      ]
    },
    {
      "cell_type": "code",
      "metadata": {
        "id": "8TCzCgMRbiAk",
        "outputId": "b938ae08-8b2d-42a3-f91b-03744009a36f",
        "colab": {
          "base_uri": "https://localhost:8080/",
          "height": 1000
        }
      },
      "source": [
        "files = \"https://github.com/rpi-techfundamentals/hm-03-starter/raw/master/files.zip\"\n",
        "!pip install otter-grader && wget $files && unzip -o files.zip"
      ],
      "execution_count": null,
      "outputs": [
        {
          "output_type": "stream",
          "text": [
            "Collecting otter-grader\n",
            "\u001b[?25l  Downloading https://files.pythonhosted.org/packages/68/a2/dee78e2fccca262eca4b58097501dd60eb9db7e82a26f208bbbe7fed9d7c/otter_grader-1.1.2-py3-none-any.whl (169kB)\n",
            "\u001b[K     |████████████████████████████████| 174kB 2.7MB/s \n",
            "\u001b[?25hRequirement already satisfied: pyyaml in /usr/local/lib/python3.6/dist-packages (from otter-grader) (3.13)\n",
            "Requirement already satisfied: nbformat in /usr/local/lib/python3.6/dist-packages (from otter-grader) (5.0.7)\n",
            "Requirement already satisfied: ipython in /usr/local/lib/python3.6/dist-packages (from otter-grader) (5.5.0)\n",
            "Requirement already satisfied: jinja2 in /usr/local/lib/python3.6/dist-packages (from otter-grader) (2.11.2)\n",
            "Requirement already satisfied: pandas in /usr/local/lib/python3.6/dist-packages (from otter-grader) (1.0.5)\n",
            "Requirement already satisfied: setuptools in /usr/local/lib/python3.6/dist-packages (from otter-grader) (50.3.0)\n",
            "Collecting PyPDF2\n",
            "\u001b[?25l  Downloading https://files.pythonhosted.org/packages/b4/01/68fcc0d43daf4c6bdbc6b33cc3f77bda531c86b174cac56ef0ffdb96faab/PyPDF2-1.26.0.tar.gz (77kB)\n",
            "\u001b[K     |████████████████████████████████| 81kB 4.3MB/s \n",
            "\u001b[?25hRequirement already satisfied: nbconvert<6.0.0 in /usr/local/lib/python3.6/dist-packages (from otter-grader) (5.6.1)\n",
            "Requirement already satisfied: tqdm in /usr/local/lib/python3.6/dist-packages (from otter-grader) (4.41.1)\n",
            "Collecting docker\n",
            "\u001b[?25l  Downloading https://files.pythonhosted.org/packages/9e/8c/8d42dbd83679483db207535f4fb02dc84325fa78b290f057694b057fcd21/docker-4.3.1-py2.py3-none-any.whl (145kB)\n",
            "\u001b[K     |████████████████████████████████| 153kB 7.3MB/s \n",
            "\u001b[?25hRequirement already satisfied: dill in /usr/local/lib/python3.6/dist-packages (from otter-grader) (0.3.2)\n",
            "Requirement already satisfied: tornado in /usr/local/lib/python3.6/dist-packages (from otter-grader) (5.1.1)\n",
            "Collecting pdfkit\n",
            "  Downloading https://files.pythonhosted.org/packages/57/da/48fdd627794cde49f4ee7854d219f3a65714069b722b8d0e3599cd066185/pdfkit-0.6.1-py3-none-any.whl\n",
            "Requirement already satisfied: traitlets>=4.1 in /usr/local/lib/python3.6/dist-packages (from nbformat->otter-grader) (4.3.3)\n",
            "Requirement already satisfied: jsonschema!=2.5.0,>=2.4 in /usr/local/lib/python3.6/dist-packages (from nbformat->otter-grader) (2.6.0)\n",
            "Requirement already satisfied: ipython-genutils in /usr/local/lib/python3.6/dist-packages (from nbformat->otter-grader) (0.2.0)\n",
            "Requirement already satisfied: jupyter-core in /usr/local/lib/python3.6/dist-packages (from nbformat->otter-grader) (4.6.3)\n",
            "Requirement already satisfied: pexpect; sys_platform != \"win32\" in /usr/local/lib/python3.6/dist-packages (from ipython->otter-grader) (4.8.0)\n",
            "Requirement already satisfied: decorator in /usr/local/lib/python3.6/dist-packages (from ipython->otter-grader) (4.4.2)\n",
            "Requirement already satisfied: pygments in /usr/local/lib/python3.6/dist-packages (from ipython->otter-grader) (2.6.1)\n",
            "Requirement already satisfied: pickleshare in /usr/local/lib/python3.6/dist-packages (from ipython->otter-grader) (0.7.5)\n",
            "Requirement already satisfied: simplegeneric>0.8 in /usr/local/lib/python3.6/dist-packages (from ipython->otter-grader) (0.8.1)\n",
            "Requirement already satisfied: prompt-toolkit<2.0.0,>=1.0.4 in /usr/local/lib/python3.6/dist-packages (from ipython->otter-grader) (1.0.18)\n",
            "Requirement already satisfied: MarkupSafe>=0.23 in /usr/local/lib/python3.6/dist-packages (from jinja2->otter-grader) (1.1.1)\n",
            "Requirement already satisfied: python-dateutil>=2.6.1 in /usr/local/lib/python3.6/dist-packages (from pandas->otter-grader) (2.8.1)\n",
            "Requirement already satisfied: pytz>=2017.2 in /usr/local/lib/python3.6/dist-packages (from pandas->otter-grader) (2018.9)\n",
            "Requirement already satisfied: numpy>=1.13.3 in /usr/local/lib/python3.6/dist-packages (from pandas->otter-grader) (1.18.5)\n",
            "Requirement already satisfied: defusedxml in /usr/local/lib/python3.6/dist-packages (from nbconvert<6.0.0->otter-grader) (0.6.0)\n",
            "Requirement already satisfied: mistune<2,>=0.8.1 in /usr/local/lib/python3.6/dist-packages (from nbconvert<6.0.0->otter-grader) (0.8.4)\n",
            "Requirement already satisfied: testpath in /usr/local/lib/python3.6/dist-packages (from nbconvert<6.0.0->otter-grader) (0.4.4)\n",
            "Requirement already satisfied: entrypoints>=0.2.2 in /usr/local/lib/python3.6/dist-packages (from nbconvert<6.0.0->otter-grader) (0.3)\n",
            "Requirement already satisfied: pandocfilters>=1.4.1 in /usr/local/lib/python3.6/dist-packages (from nbconvert<6.0.0->otter-grader) (1.4.2)\n",
            "Requirement already satisfied: bleach in /usr/local/lib/python3.6/dist-packages (from nbconvert<6.0.0->otter-grader) (3.2.0)\n",
            "Requirement already satisfied: six>=1.4.0 in /usr/local/lib/python3.6/dist-packages (from docker->otter-grader) (1.15.0)\n",
            "Requirement already satisfied: requests!=2.18.0,>=2.14.2 in /usr/local/lib/python3.6/dist-packages (from docker->otter-grader) (2.23.0)\n",
            "Collecting websocket-client>=0.32.0\n",
            "\u001b[?25l  Downloading https://files.pythonhosted.org/packages/4c/5f/f61b420143ed1c8dc69f9eaec5ff1ac36109d52c80de49d66e0c36c3dfdf/websocket_client-0.57.0-py2.py3-none-any.whl (200kB)\n",
            "\u001b[K     |████████████████████████████████| 204kB 11.7MB/s \n",
            "\u001b[?25hRequirement already satisfied: ptyprocess>=0.5 in /usr/local/lib/python3.6/dist-packages (from pexpect; sys_platform != \"win32\"->ipython->otter-grader) (0.6.0)\n",
            "Requirement already satisfied: wcwidth in /usr/local/lib/python3.6/dist-packages (from prompt-toolkit<2.0.0,>=1.0.4->ipython->otter-grader) (0.2.5)\n",
            "Requirement already satisfied: webencodings in /usr/local/lib/python3.6/dist-packages (from bleach->nbconvert<6.0.0->otter-grader) (0.5.1)\n",
            "Requirement already satisfied: packaging in /usr/local/lib/python3.6/dist-packages (from bleach->nbconvert<6.0.0->otter-grader) (20.4)\n",
            "Requirement already satisfied: certifi>=2017.4.17 in /usr/local/lib/python3.6/dist-packages (from requests!=2.18.0,>=2.14.2->docker->otter-grader) (2020.6.20)\n",
            "Requirement already satisfied: idna<3,>=2.5 in /usr/local/lib/python3.6/dist-packages (from requests!=2.18.0,>=2.14.2->docker->otter-grader) (2.10)\n",
            "Requirement already satisfied: chardet<4,>=3.0.2 in /usr/local/lib/python3.6/dist-packages (from requests!=2.18.0,>=2.14.2->docker->otter-grader) (3.0.4)\n",
            "Requirement already satisfied: urllib3!=1.25.0,!=1.25.1,<1.26,>=1.21.1 in /usr/local/lib/python3.6/dist-packages (from requests!=2.18.0,>=2.14.2->docker->otter-grader) (1.24.3)\n",
            "Requirement already satisfied: pyparsing>=2.0.2 in /usr/local/lib/python3.6/dist-packages (from packaging->bleach->nbconvert<6.0.0->otter-grader) (2.4.7)\n",
            "Building wheels for collected packages: PyPDF2\n",
            "  Building wheel for PyPDF2 (setup.py) ... \u001b[?25l\u001b[?25hdone\n",
            "  Created wheel for PyPDF2: filename=PyPDF2-1.26.0-cp36-none-any.whl size=61086 sha256=637f5716057e4928e6c0b66c17714a9d56d4c5e08da3a3c36529f836676b6133\n",
            "  Stored in directory: /root/.cache/pip/wheels/53/84/19/35bc977c8bf5f0c23a8a011aa958acd4da4bbd7a229315c1b7\n",
            "Successfully built PyPDF2\n",
            "Installing collected packages: PyPDF2, websocket-client, docker, pdfkit, otter-grader\n",
            "Successfully installed PyPDF2-1.26.0 docker-4.3.1 otter-grader-1.1.2 pdfkit-0.6.1 websocket-client-0.57.0\n",
            "--2020-09-22 14:34:58--  https://github.com/rpi-techfundamentals/hm-03-starter/raw/master/files.zip\n",
            "Resolving github.com (github.com)... 140.82.112.4\n",
            "Connecting to github.com (github.com)|140.82.112.4|:443... connected.\n",
            "HTTP request sent, awaiting response... 302 Found\n",
            "Location: https://raw.githubusercontent.com/rpi-techfundamentals/hm-03-starter/master/files.zip [following]\n",
            "--2020-09-22 14:34:58--  https://raw.githubusercontent.com/rpi-techfundamentals/hm-03-starter/master/files.zip\n",
            "Resolving raw.githubusercontent.com (raw.githubusercontent.com)... 151.101.0.133, 151.101.64.133, 151.101.128.133, ...\n",
            "Connecting to raw.githubusercontent.com (raw.githubusercontent.com)|151.101.0.133|:443... connected.\n",
            "HTTP request sent, awaiting response... 200 OK\n",
            "Length: 45953 (45K) [application/zip]\n",
            "Saving to: ‘files.zip’\n",
            "\n",
            "files.zip           100%[===================>]  44.88K  --.-KB/s    in 0.02s   \n",
            "\n",
            "2020-09-22 14:34:58 (1.80 MB/s) - ‘files.zip’ saved [45953/45953]\n",
            "\n",
            "Archive:  files.zip\n",
            "   creating: input/\n",
            "  inflating: input/test.csv          \n",
            "  inflating: input/iris.csv          \n",
            "  inflating: input/train.csv         \n",
            "   creating: tests/\n",
            "  inflating: tests/q01.py            \n",
            "  inflating: tests/q11.py            \n",
            "  inflating: tests/q05.py            \n",
            " extracting: tests/__init__.py       \n",
            "  inflating: tests/q14.py            \n",
            "  inflating: tests/q10.py            \n",
            "  inflating: tests/qname.py          \n",
            "  inflating: tests/q07.py            \n",
            "  inflating: tests/q03.py            \n",
            "  inflating: tests/q13.py            \n",
            "  inflating: tests/q02.py            \n",
            "  inflating: tests/q12.py            \n",
            "  inflating: tests/q06.py            \n",
            "   creating: tests/.ipynb_checkpoints/\n",
            "  inflating: tests/.ipynb_checkpoints/q09-checkpoint.py  \n",
            "  inflating: tests/.ipynb_checkpoints/q13-checkpoint.py  \n",
            "  inflating: tests/.ipynb_checkpoints/q14-checkpoint.py  \n",
            "  inflating: tests/.ipynb_checkpoints/q03-checkpoint.py  \n",
            "  inflating: tests/.ipynb_checkpoints/q07-checkpoint.py  \n",
            "  inflating: tests/.ipynb_checkpoints/q10-checkpoint.py  \n",
            "  inflating: tests/.ipynb_checkpoints/q11-checkpoint.py  \n",
            "  inflating: tests/.ipynb_checkpoints/q06-checkpoint.py  \n",
            "  inflating: tests/.ipynb_checkpoints/q02-checkpoint.py  \n",
            "  inflating: tests/.ipynb_checkpoints/q05-checkpoint.py  \n",
            "  inflating: tests/.ipynb_checkpoints/q12-checkpoint.py  \n",
            "  inflating: tests/.ipynb_checkpoints/q01-checkpoint.py  \n",
            "  inflating: tests/.ipynb_checkpoints/q08-checkpoint.py  \n",
            "  inflating: tests/q09.py            \n",
            "  inflating: tests/q08.py            \n",
            "  inflating: hm.ok                   \n"
          ],
          "name": "stdout"
        }
      ]
    },
    {
      "cell_type": "code",
      "metadata": {
        "id": "moTUYN9VbiAm"
      },
      "source": [
        "#Run this. It initiates autograding. \n",
        "import otter\n",
        "grader = otter.Notebook()"
      ],
      "execution_count": null,
      "outputs": []
    },
    {
      "cell_type": "markdown",
      "metadata": {
        "id": "mAC6v0SQbiAp"
      },
      "source": [
        "## Exercises - For and If and Functions\n",
        "\n",
        "(1). Create a function `list_step` that accepts 3 variables (`start`, `stop`, `step`).  The function returns a list starting at `start`, ending at `stop`, and with a step of `step`.\n",
        "\n",
        "For example:\n",
        "\n",
        "`list_step(5, 19, 2)`\n",
        "\n",
        "Should return: \n",
        "\n",
        "`[5, 7, 9, 11, 13, 15, 17]`\n"
      ]
    },
    {
      "cell_type": "code",
      "metadata": {
        "id": "QM-6RxE3biAp"
      },
      "source": [
        "#Answer question 1 here.\n",
        "def list_step(start, stop, step):\n",
        "  alist=[]\n",
        "  for i in range(start, stop, step):\n",
        "    alist.append(i)\n",
        "  return alist"
      ],
      "execution_count": null,
      "outputs": []
    },
    {
      "cell_type": "code",
      "metadata": {
        "id": "ZyGkeyIabiAs",
        "outputId": "b92cda95-4014-4dfe-8fdb-ebce6cdaa9a7",
        "colab": {
          "base_uri": "https://localhost:8080/",
          "height": 46
        }
      },
      "source": [
        "list1= list_step(5, 19, 2) #include this code\n",
        "grader.check('q01')"
      ],
      "execution_count": null,
      "outputs": [
        {
          "output_type": "execute_result",
          "data": {
            "text/html": [
              "\n",
              "    \n",
              "    \n",
              "        <p>All tests passed!</p>\n",
              "    \n",
              "    "
            ],
            "text/plain": [
              "\n",
              "    All tests passed!\n",
              "    "
            ]
          },
          "metadata": {
            "tags": []
          },
          "execution_count": 4
        }
      ]
    },
    {
      "cell_type": "markdown",
      "metadata": {
        "id": "2MlJHdBIbiAv"
      },
      "source": [
        "(2). Create a function `list_divisible` that accepts 3 variables (`start`, `stop`, `divisible`).  Use a for loop to create a list of all numbers from `start` to `stop` which are divisible by `divisible`.\n",
        "\n",
        "For example:\n",
        "\n",
        "`list_divisible(1, 50, 7)`\n",
        "\n",
        "Should return: \n",
        "\n",
        "`[7, 14, 21, 28, 35, 42, 49]`"
      ]
    },
    {
      "cell_type": "code",
      "metadata": {
        "id": "5_MwSa5lbiAv"
      },
      "source": [
        "#Answer question 2 here.\n",
        "def list_divisible(start, stop, divisible):\n",
        "  alist=[]\n",
        "  for x in range(start, stop):\n",
        "    if x%divisible==0:\n",
        "      alist.append(x)\n",
        "  return alist"
      ],
      "execution_count": null,
      "outputs": []
    },
    {
      "cell_type": "code",
      "metadata": {
        "id": "8jttsZuUbiAy",
        "outputId": "1b76e210-f8a7-4c61-aa09-e3a5509466e8",
        "colab": {
          "base_uri": "https://localhost:8080/",
          "height": 46
        }
      },
      "source": [
        "list2= list_divisible(1, 50, 7) #include this code\n",
        "grader.check('q02')"
      ],
      "execution_count": null,
      "outputs": [
        {
          "output_type": "execute_result",
          "data": {
            "text/html": [
              "\n",
              "    \n",
              "    \n",
              "        <p>All tests passed!</p>\n",
              "    \n",
              "    "
            ],
            "text/plain": [
              "\n",
              "    All tests passed!\n",
              "    "
            ]
          },
          "metadata": {
            "tags": []
          },
          "execution_count": 6
        }
      ]
    },
    {
      "cell_type": "markdown",
      "metadata": {
        "id": "Uq-Ez73bbiA0"
      },
      "source": [
        "(3). Create a function `list_divisible_not` that accepts 4 variables (`start`, `stop`, `divisible`, `not_divisible`).  Use a for loop to create a list of all numbers from `start` to `stop` which are divisible by `divisible` but not divisible by `not_divisible`.\n",
        "\n",
        "For example:\n",
        "\n",
        "`list_divisible_not(1, 100, 4, 3)`\n",
        "\n",
        "Should return: \n",
        "\n",
        "`[4, 8, 16, 20, 28, 32, 40, 44, 52, 56, 64, 68, 76, 80, 88, 92]`\n"
      ]
    },
    {
      "cell_type": "code",
      "metadata": {
        "id": "v3gDy1YrbiA1"
      },
      "source": [
        "#Answer question 3 here.\n",
        "def list_divisible_not(start, stop, divisible, not_divisible):\n",
        "  alist=[]\n",
        "  for x in range(start, stop):\n",
        "    if (x%divisible==0) & (x%not_divisible!=0):\n",
        "      alist.append(x)\n",
        "  return alist"
      ],
      "execution_count": null,
      "outputs": []
    },
    {
      "cell_type": "code",
      "metadata": {
        "id": "8SbK9vjgbiA3",
        "outputId": "50be0a4d-c38c-4c53-fb88-b66a8393be04",
        "colab": {
          "base_uri": "https://localhost:8080/",
          "height": 46
        }
      },
      "source": [
        "list3= list_divisible_not(1, 100, 4, 3) #include this code\n",
        "grader.check('q03')"
      ],
      "execution_count": null,
      "outputs": [
        {
          "output_type": "execute_result",
          "data": {
            "text/html": [
              "\n",
              "    \n",
              "    \n",
              "        <p>All tests passed!</p>\n",
              "    \n",
              "    "
            ],
            "text/plain": [
              "\n",
              "    All tests passed!\n",
              "    "
            ]
          },
          "metadata": {
            "tags": []
          },
          "execution_count": 8
        }
      ]
    },
    {
      "cell_type": "markdown",
      "metadata": {
        "id": "NxikYaAUbiA5"
      },
      "source": [
        "## Exercises-Titanic\n",
        "\n",
        "The following exercises will use the titanic data from Kaggle.  I've included it in the input folder just like Kaggle. "
      ]
    },
    {
      "cell_type": "code",
      "metadata": {
        "id": "eXeFgxJ5biA7"
      },
      "source": [
        "import numpy as np \n",
        "import pandas as pd \n",
        "\n",
        "# Input data files are available in the \"../input/\" directory.\n",
        "# Let's input them into a Pandas DataFrame\n",
        "train = pd.read_csv(\"./input/train.csv\")\n",
        "test  = pd.read_csv(\"./input/test.csv\")"
      ],
      "execution_count": null,
      "outputs": []
    },
    {
      "cell_type": "markdown",
      "metadata": {
        "id": "djs2sUOWbiA-"
      },
      "source": [
        "(4) What is the key difference between the train and the test?"
      ]
    },
    {
      "cell_type": "code",
      "metadata": {
        "id": "9kqVcP-7biA-"
      },
      "source": [
        "man4=\"\"\"\n",
        "The key difference in the Test and Train dataset is, that the train dataset has an additional column called \"Survived\" in it as opposed to test dataset. Train dataset has less data points in quantity as compared to the test dataset. Also, the data points from the training dataset are excluded from the test data set.\n",
        "\"\"\""
      ],
      "execution_count": null,
      "outputs": []
    },
    {
      "cell_type": "markdown",
      "metadata": {
        "id": "anLIL5fTbiBA"
      },
      "source": [
        "(5) Create a new column `family` that is equal to the `SibSp` * `Parch` for both the train and the test dataframes.  DON'T use a `for` loop. \n"
      ]
    },
    {
      "cell_type": "code",
      "metadata": {
        "id": "Q7j4F61AbiBB"
      },
      "source": [
        "#Answer \n",
        "train['family'] = train.apply(lambda row: row.SibSp * row.Parch, axis = 1)\n",
        "test['family'] = test.apply(lambda row: row.SibSp * row.Parch, axis = 1)"
      ],
      "execution_count": null,
      "outputs": []
    },
    {
      "cell_type": "code",
      "metadata": {
        "id": "lrzDBkWUbiBD",
        "outputId": "fb29af01-1045-43cf-a198-9cdc091f490a",
        "colab": {
          "base_uri": "https://localhost:8080/",
          "height": 46
        }
      },
      "source": [
        "grader.check('q05')"
      ],
      "execution_count": null,
      "outputs": [
        {
          "output_type": "execute_result",
          "data": {
            "text/html": [
              "\n",
              "    \n",
              "    \n",
              "        <p>All tests passed!</p>\n",
              "    \n",
              "    "
            ],
            "text/plain": [
              "\n",
              "    All tests passed!\n",
              "    "
            ]
          },
          "metadata": {
            "tags": []
          },
          "execution_count": 12
        }
      ]
    },
    {
      "cell_type": "markdown",
      "metadata": {
        "id": "g5jaVVvybiBF"
      },
      "source": [
        "\n",
        "(6). While we can submit our answer to Kaggle to see how it will perform, we can also utilize our training data to assess accuracy. Accuracy is the percentage of predictions made correctly-i.e., the percentage of people in which our prediction regarding their survival is correct. In other words, accuracy = (#correct predictions)/(Total # of predictions). Create a function `generate_accuracy` which accepts two Pandas series objects (`predicted`, `actual`) and returns the accuracy.  \n",
        "\n",
        "For example, when a and b are two different Pandas Series: \n",
        "`generate_accuracy(predicted, actual)`\n",
        "\n",
        "For the sample data below, the data should retun `50.0` (i.e., a percentage).\n",
        "\n"
      ]
    },
    {
      "cell_type": "code",
      "metadata": {
        "id": "FvXAq_TjbiBG",
        "outputId": "94892f8e-41dc-4914-f106-fd6f02e6e457",
        "colab": {
          "base_uri": "https://localhost:8080/",
          "height": 173
        }
      },
      "source": [
        "#Example DATA\n",
        "import pandas as pd\n",
        "ex = [{'predicted': 1, 'actual': 1},\n",
        "         {'predicted': 1,  'actual': 0},\n",
        "         {'predicted': 0,  'actual': 1},\n",
        "         {'predicted': 0,  'actual': 0} ]\n",
        "\n",
        "df = pd.DataFrame(ex)\n",
        "df"
      ],
      "execution_count": null,
      "outputs": [
        {
          "output_type": "execute_result",
          "data": {
            "text/html": [
              "<div>\n",
              "<style scoped>\n",
              "    .dataframe tbody tr th:only-of-type {\n",
              "        vertical-align: middle;\n",
              "    }\n",
              "\n",
              "    .dataframe tbody tr th {\n",
              "        vertical-align: top;\n",
              "    }\n",
              "\n",
              "    .dataframe thead th {\n",
              "        text-align: right;\n",
              "    }\n",
              "</style>\n",
              "<table border=\"1\" class=\"dataframe\">\n",
              "  <thead>\n",
              "    <tr style=\"text-align: right;\">\n",
              "      <th></th>\n",
              "      <th>predicted</th>\n",
              "      <th>actual</th>\n",
              "    </tr>\n",
              "  </thead>\n",
              "  <tbody>\n",
              "    <tr>\n",
              "      <th>0</th>\n",
              "      <td>1</td>\n",
              "      <td>1</td>\n",
              "    </tr>\n",
              "    <tr>\n",
              "      <th>1</th>\n",
              "      <td>1</td>\n",
              "      <td>0</td>\n",
              "    </tr>\n",
              "    <tr>\n",
              "      <th>2</th>\n",
              "      <td>0</td>\n",
              "      <td>1</td>\n",
              "    </tr>\n",
              "    <tr>\n",
              "      <th>3</th>\n",
              "      <td>0</td>\n",
              "      <td>0</td>\n",
              "    </tr>\n",
              "  </tbody>\n",
              "</table>\n",
              "</div>"
            ],
            "text/plain": [
              "   predicted  actual\n",
              "0          1       1\n",
              "1          1       0\n",
              "2          0       1\n",
              "3          0       0"
            ]
          },
          "metadata": {
            "tags": []
          },
          "execution_count": 13
        }
      ]
    },
    {
      "cell_type": "code",
      "metadata": {
        "id": "ou4dAw_UbiBH"
      },
      "source": [
        "#Answer\n",
        "def generate_accuracy(predicted, actual):\n",
        "  correct_predictions=0\n",
        "  total_predictions=len(predicted)\n",
        "  for i in range(len(predicted)):\n",
        "    if predicted[i]==actual[i]:\n",
        "      correct_predictions+=1\n",
        "  return float((correct_predictions/total_predictions)*100)\n",
        "\n"
      ],
      "execution_count": null,
      "outputs": []
    },
    {
      "cell_type": "code",
      "metadata": {
        "id": "cD_ea-GcbiBK",
        "outputId": "d7ed465b-0a6d-48a9-e651-ac96dcef4b97",
        "colab": {
          "base_uri": "https://localhost:8080/",
          "height": 46
        }
      },
      "source": [
        "grader.check('q06')"
      ],
      "execution_count": null,
      "outputs": [
        {
          "output_type": "execute_result",
          "data": {
            "text/html": [
              "\n",
              "    \n",
              "    \n",
              "        <p>All tests passed!</p>\n",
              "    \n",
              "    "
            ],
            "text/plain": [
              "\n",
              "    All tests passed!\n",
              "    "
            ]
          },
          "metadata": {
            "tags": []
          },
          "execution_count": 15
        }
      ]
    },
    {
      "cell_type": "markdown",
      "metadata": {
        "id": "L0GTY_EcbiBN"
      },
      "source": [
        "(7) Create a column `PredEveryoneDies` which is equal to 0 for everyone in both training and testing datasets. "
      ]
    },
    {
      "cell_type": "code",
      "metadata": {
        "id": "dlWR17fEbiBN"
      },
      "source": [
        "#Answer\n",
        "train['PredEveryoneDies']=0\n",
        "test['PredEveryoneDies']=0\n"
      ],
      "execution_count": null,
      "outputs": []
    },
    {
      "cell_type": "code",
      "metadata": {
        "id": "v1FV-k1hbiBP",
        "outputId": "761fddcb-b18a-41dd-a7a6-f10b661eea64",
        "colab": {
          "base_uri": "https://localhost:8080/",
          "height": 46
        }
      },
      "source": [
        "grader.check('q07')\n"
      ],
      "execution_count": null,
      "outputs": [
        {
          "output_type": "execute_result",
          "data": {
            "text/html": [
              "\n",
              "    \n",
              "    \n",
              "        <p>All tests passed!</p>\n",
              "    \n",
              "    "
            ],
            "text/plain": [
              "\n",
              "    All tests passed!\n",
              "    "
            ]
          },
          "metadata": {
            "tags": []
          },
          "execution_count": 17
        }
      ]
    },
    {
      "cell_type": "markdown",
      "metadata": {
        "id": "51O0IxAbbiBS"
      },
      "source": [
        "(8) Find the accuracy of `PredEveryoneDies` in predicting `Survived` using the function `generate_accuracy` that you created earlier and assign it to the `AccEveryoneDies` variable. "
      ]
    },
    {
      "cell_type": "code",
      "metadata": {
        "id": "sZ_S3mZ0biBS"
      },
      "source": [
        "# Answer\n",
        "AccEveryoneDies= generate_accuracy(train.PredEveryoneDies, train.Survived)\n"
      ],
      "execution_count": null,
      "outputs": []
    },
    {
      "cell_type": "code",
      "metadata": {
        "id": "rs1ZieiWbiBZ",
        "outputId": "f387d3f7-ee06-4926-c46f-d5be5d4d9b0e",
        "colab": {
          "base_uri": "https://localhost:8080/",
          "height": 46
        }
      },
      "source": [
        "grader.check('q08')"
      ],
      "execution_count": null,
      "outputs": [
        {
          "output_type": "execute_result",
          "data": {
            "text/html": [
              "\n",
              "    \n",
              "    \n",
              "        <p>All tests passed!</p>\n",
              "    \n",
              "    "
            ],
            "text/plain": [
              "\n",
              "    All tests passed!\n",
              "    "
            ]
          },
          "metadata": {
            "tags": []
          },
          "execution_count": 19
        }
      ]
    },
    {
      "cell_type": "markdown",
      "metadata": {
        "id": "2VJPRTrCbiBb"
      },
      "source": [
        "(9) In both the training and testing datasets, create the column `PredGender` that is 1 -- if the person is a woman and 0 -- if the person is a man. (This is based on the \"women and children first\" law of shipwrecks).  Then set `AccGender` to the accuracy of the `PredGender` in the Train dataset.\n"
      ]
    },
    {
      "cell_type": "code",
      "metadata": {
        "id": "YQPXJQ8bbiBb"
      },
      "source": [
        "#Answer\n",
        "train['PredGender']=0\n",
        "for i in range(len(train.PredGender)):\n",
        "  if train.Sex[i]=='female':\n",
        "    train.at[i,'PredGender']= '1'\n",
        "\n",
        "test['PredGender']=0\n",
        "for i in range(len(test.PredGender)):\n",
        "  if test.Sex[i]=='female':\n",
        "    test.at[i,'PredGender']= '1'\n",
        "\n",
        "AccGender= generate_accuracy(train.PredGender, train.Survived)"
      ],
      "execution_count": null,
      "outputs": []
    },
    {
      "cell_type": "code",
      "metadata": {
        "id": "LYA7qFwEbiBe",
        "outputId": "4bd4d409-72b9-482c-f71a-288e134f3029",
        "colab": {
          "base_uri": "https://localhost:8080/",
          "height": 46
        }
      },
      "source": [
        "grader.check('q09')"
      ],
      "execution_count": null,
      "outputs": [
        {
          "output_type": "execute_result",
          "data": {
            "text/html": [
              "\n",
              "    \n",
              "    \n",
              "        <p>All tests passed!</p>\n",
              "    \n",
              "    "
            ],
            "text/plain": [
              "\n",
              "    All tests passed!\n",
              "    "
            ]
          },
          "metadata": {
            "tags": []
          },
          "execution_count": 21
        }
      ]
    },
    {
      "cell_type": "markdown",
      "metadata": {
        "id": "DJ_IGh2ubiBh"
      },
      "source": [
        "(10). Create a `generate_submission` function that accepts a DataFrame, a target column, and a filename (`df`, `target`, `filename`) and writes out the submission file with just the `passengerID` and the `Survived` columns, where the `Survived` column is equal to the target column.\n",
        "\n",
        "For example:\n",
        "`submitdie = generate_submission(train, 'PredEveryoneDies', 'submiteveryonedies.csv')`\n",
        "\n",
        "Should return a dataframe with just `passengerID` and the `Survived` column.  \n",
        "\n",
        "**Make sure your submission file prediction for Survived is an integer and not at float. If you submit a float it may not work.**\n"
      ]
    },
    {
      "cell_type": "code",
      "metadata": {
        "id": "F4vp7SOwbiBi"
      },
      "source": [
        "#Answer\n",
        "def generate_submission(df, target, filename):\n",
        "  frame=pd.DataFrame(df, columns= ['PassengerId', target])\n",
        "  frame.rename(columns={ target : 'Survived'}, inplace= True)\n",
        "  frame.to_csv(filename, index=False)\n",
        "  return frame\n"
      ],
      "execution_count": null,
      "outputs": []
    },
    {
      "cell_type": "code",
      "metadata": {
        "id": "fLk5RV8JbiBk",
        "outputId": "b9854427-0b5b-430b-b0f6-10c81bd093ad",
        "colab": {
          "base_uri": "https://localhost:8080/",
          "height": 46
        }
      },
      "source": [
        "grader.check('q10')"
      ],
      "execution_count": null,
      "outputs": [
        {
          "output_type": "execute_result",
          "data": {
            "text/html": [
              "\n",
              "    \n",
              "    \n",
              "        <p>All tests passed!</p>\n",
              "    \n",
              "    "
            ],
            "text/plain": [
              "\n",
              "    All tests passed!\n",
              "    "
            ]
          },
          "metadata": {
            "tags": []
          },
          "execution_count": 23
        }
      ]
    },
    {
      "cell_type": "markdown",
      "metadata": {
        "id": "hJd-vOiZbiBm"
      },
      "source": [
        "(11).  To use the [women and children first](https://en.wikipedia.org/wiki/Women_and_children_first) protocol, we will need to use the age field. This has some missing values. We are going to replace null values in the train and test set with the median value for each.  \n",
        "\n",
        "\n",
        "For this particular question: \n",
        "\n",
        "Set the variables `AgeMissingTrain` and `AgeMissingTest` using the count of the number of missing values in the train and test sets, respectively.\n",
        "\n",
        "Set the variable `AgeMedianTrain` and `AgeMedianTest` using the median age of the train and test sets, respectively. "
      ]
    },
    {
      "cell_type": "code",
      "metadata": {
        "id": "aFyw0ZeSbiBm"
      },
      "source": [
        "#Answer\n",
        "AgeMissingTrain=train.loc[:,\"Age\"].isna().sum()\n",
        "AgeMissingTest=test.loc[:,\"Age\"].isna().sum()\n",
        "AgeMedianTrain=train.loc[:,\"Age\"].median()\n",
        "AgeMedianTest=test.loc[:,\"Age\"].median()"
      ],
      "execution_count": null,
      "outputs": []
    },
    {
      "cell_type": "code",
      "metadata": {
        "id": "bR36brWDbiBo",
        "outputId": "d204dd03-1738-40c0-e38d-4dbe21175c74",
        "colab": {
          "base_uri": "https://localhost:8080/",
          "height": 46
        }
      },
      "source": [
        "grader.check('q11')"
      ],
      "execution_count": null,
      "outputs": [
        {
          "output_type": "execute_result",
          "data": {
            "text/html": [
              "\n",
              "    \n",
              "    \n",
              "        <p>All tests passed!</p>\n",
              "    \n",
              "    "
            ],
            "text/plain": [
              "\n",
              "    All tests passed!\n",
              "    "
            ]
          },
          "metadata": {
            "tags": []
          },
          "execution_count": 25
        }
      ]
    },
    {
      "cell_type": "markdown",
      "metadata": {
        "id": "o8F0wyrEbiBq"
      },
      "source": [
        "(12) For rows in which the age value is  missing, set the age to the appropriate median value for the train/test set. "
      ]
    },
    {
      "cell_type": "code",
      "metadata": {
        "id": "319cK3sNbiBq"
      },
      "source": [
        "#Answer\n",
        "train.Age=train.Age.fillna(value= AgeMedianTrain)\n",
        "test.Age=test.Age.fillna(value = AgeMedianTest)\n"
      ],
      "execution_count": null,
      "outputs": []
    },
    {
      "cell_type": "code",
      "metadata": {
        "id": "VIWAu76wbiBw",
        "outputId": "69f8b42a-b548-4f51-b9c0-fc59fe2736a3",
        "colab": {
          "base_uri": "https://localhost:8080/",
          "height": 46
        }
      },
      "source": [
        "grader.check('q12')"
      ],
      "execution_count": null,
      "outputs": [
        {
          "output_type": "execute_result",
          "data": {
            "text/html": [
              "\n",
              "    \n",
              "    \n",
              "        <p>All tests passed!</p>\n",
              "    \n",
              "    "
            ],
            "text/plain": [
              "\n",
              "    All tests passed!\n",
              "    "
            ]
          },
          "metadata": {
            "tags": []
          },
          "execution_count": 27
        }
      ]
    },
    {
      "cell_type": "markdown",
      "metadata": {
        "id": "4WYb1qQ6biBy"
      },
      "source": [
        "\n",
        "(13). In our initial calculation of the `PredGender` column, we made our prediction based on whether the individual was male or female.  In accordance to the [women and children first](https://en.wikipedia.org/wiki/Women_and_children_first) protocol, we hypothesize that our model could be improved by including whether the individual was a child in addition to gender. We also have a question, what age to use to determine \"child\"? (People weren't likely to check for IDs.)  We will check 2 ages...<13 and <18 (somewhat arbitrary but have to start somewhere) and see which yields a better accuracy. <br>\n",
        "\n",
        "<br> \n",
        "\n",
        "Specifically, create 2 predictions as follows:\n",
        "\n",
        "`train['PredGenderAge13']` should be the prediction incorporating both Gender (women survive) and Age (Children Age<13 survived while Age>=13 died)  <br>\n",
        "`train['PredGenderAge18']` should be the prediction incorporating both Gender (women survive) and Age (Children Age<18 survived while Age>=18 died)  <br>\n",
        "\n",
        "*The analysis assumes that you have addressed missing values in the earlier step and you should do it for both the train and test dataframes*"
      ]
    },
    {
      "cell_type": "code",
      "metadata": {
        "id": "Z_RXLnoXbiBz",
        "outputId": "7f9b08d4-9995-4fd4-c1f7-823be22719aa",
        "colab": {
          "base_uri": "https://localhost:8080/",
          "height": 102
        }
      },
      "source": [
        "#Answer\n",
        "train['PredGenderAge13']=0\n",
        "train['PredGenderAge18']=0\n",
        "test['PredGenderAge13']=0\n",
        "test['PredGenderAge18']=0\n",
        "for x in range(len(train.PredGenderAge13)):\n",
        "  if (train.Sex.iloc[x]=='female') | (train.Age.iloc[x]<13):\n",
        "    train.PredGenderAge13.iloc[x]=1\n",
        "\n",
        "for x in range(len(train.PredGenderAge18)):\n",
        "  if (train.Sex.iloc[x]=='female') | (train.Age.iloc[x]<18):\n",
        "    train.PredGenderAge18.iloc[x]=1\n",
        "\n",
        "for x in range(len(test.PredGenderAge13)):\n",
        "  if (test.Sex.iloc[x]=='female') | (test.Age.iloc[x]<13):\n",
        "    test.PredGenderAge13.iloc[x]=1\n",
        "\n",
        "for x in range(len(test.PredGenderAge18)):\n",
        "  if (test.Sex.iloc[x]=='female') | (test.Age.iloc[x]<18):\n",
        "    test.PredGenderAge18.iloc[x]=1\n",
        "\n"
      ],
      "execution_count": null,
      "outputs": [
        {
          "output_type": "stream",
          "text": [
            "/usr/local/lib/python3.6/dist-packages/pandas/core/indexing.py:671: SettingWithCopyWarning: \n",
            "A value is trying to be set on a copy of a slice from a DataFrame\n",
            "\n",
            "See the caveats in the documentation: https://pandas.pydata.org/pandas-docs/stable/user_guide/indexing.html#returning-a-view-versus-a-copy\n",
            "  self._setitem_with_indexer(indexer, value)\n"
          ],
          "name": "stderr"
        }
      ]
    },
    {
      "cell_type": "code",
      "metadata": {
        "id": "bg1Fep69biB1",
        "outputId": "dfa57d98-ed9d-4411-d7d1-43cda829350e",
        "colab": {
          "base_uri": "https://localhost:8080/",
          "height": 46
        }
      },
      "source": [
        "grader.check('q13')"
      ],
      "execution_count": null,
      "outputs": [
        {
          "output_type": "execute_result",
          "data": {
            "text/html": [
              "\n",
              "    \n",
              "    \n",
              "        <p>All tests passed!</p>\n",
              "    \n",
              "    "
            ],
            "text/plain": [
              "\n",
              "    All tests passed!\n",
              "    "
            ]
          },
          "metadata": {
            "tags": []
          },
          "execution_count": 29
        }
      ]
    },
    {
      "cell_type": "markdown",
      "metadata": {
        "id": "FYkYiEckbiB3"
      },
      "source": [
        "(14). Calculate the accuracy for your new predictions.  Use `PredGenderAge13` in the training set to calculate `AccGenderAge13` (you can use your function again!) and `PredGenderAge18` to calcuate `AccGenderAge18`. "
      ]
    },
    {
      "cell_type": "code",
      "metadata": {
        "id": "udYOXsOxbiB3"
      },
      "source": [
        "#Answer\n",
        "AccGenderAge13=generate_accuracy(train.PredGenderAge13, train.Survived)\n",
        "AccGenderAge18=generate_accuracy(train.PredGenderAge18, train.Survived)"
      ],
      "execution_count": null,
      "outputs": []
    },
    {
      "cell_type": "code",
      "metadata": {
        "id": "y5mSZcrTbiB5",
        "outputId": "f05c5566-81f4-4cc6-f96d-3713d267f44a",
        "colab": {
          "base_uri": "https://localhost:8080/",
          "height": 46
        }
      },
      "source": [
        "grader.check('q14')"
      ],
      "execution_count": null,
      "outputs": [
        {
          "output_type": "execute_result",
          "data": {
            "text/html": [
              "\n",
              "    \n",
              "    \n",
              "        <p>All tests passed!</p>\n",
              "    \n",
              "    "
            ],
            "text/plain": [
              "\n",
              "    All tests passed!\n",
              "    "
            ]
          },
          "metadata": {
            "tags": []
          },
          "execution_count": 31
        }
      ]
    },
    {
      "cell_type": "markdown",
      "metadata": {
        "id": "X_ZLsCx5biCA"
      },
      "source": [
        "(15). You should find that the accuracy is higher when using 13 as a designation for a child than 18. What does this tell you about the role of age in surviving a shipwreck? "
      ]
    },
    {
      "cell_type": "code",
      "metadata": {
        "id": "8_GkUNYcbiCB"
      },
      "source": [
        "\n",
        "man15=\"\"\"\n",
        "The accuracy obtained above indicates that the \"women and children first\" protocol considers people less than 13 years of age as a more definitive boundry for a person being classified as child, \n",
        "rather than people less than 18 years of age. Hence, it would be safer to assume that younger the person, the better they have the chances to survive a shipwreck. Also, age as a factor also helps\n",
        "in including children, who are male, into our consideration for survival prediction and accuracy calculation.  \n",
        "\"\"\""
      ],
      "execution_count": null,
      "outputs": []
    },
    {
      "cell_type": "markdown",
      "metadata": {
        "id": "5QoaQ9hQbiCD"
      },
      "source": [
        "(16) Create a prediction file for the \"women and children first\" model in using the test dataset and upload it to Kaggle. Go through the process of uploading it to Kaggle. Put your Kaggle username so we can verify your prediction occued. \n",
        "\n",
        "**Make sure your submission file prediction is an integer and not at float. If you submit a float it may not work.**"
      ]
    },
    {
      "cell_type": "code",
      "metadata": {
        "id": "KFSWJLZYbiCD",
        "outputId": "44089dae-8b94-4398-b2ed-5f9163ef6da1",
        "colab": {
          "base_uri": "https://localhost:8080/",
          "height": 35
        }
      },
      "source": [
        "dframe=generate_submission(test, 'PredGenderAge13', 'women_children_first.csv')\n",
        "from google.colab import files\n",
        "files.download('women_children_first.csv')\n",
        "\n",
        "kaggle_username=\"aayushnm\"\n",
        "man15=\"https://www.kaggle.com/\"+kaggle_username+\"/competitions\"\n",
        "#This gives a link to your competition page\n",
        "man15"
      ],
      "execution_count": null,
      "outputs": [
        {
          "output_type": "display_data",
          "data": {
            "application/javascript": [
              "\n",
              "    async function download(id, filename, size) {\n",
              "      if (!google.colab.kernel.accessAllowed) {\n",
              "        return;\n",
              "      }\n",
              "      const div = document.createElement('div');\n",
              "      const label = document.createElement('label');\n",
              "      label.textContent = `Downloading \"${filename}\": `;\n",
              "      div.appendChild(label);\n",
              "      const progress = document.createElement('progress');\n",
              "      progress.max = size;\n",
              "      div.appendChild(progress);\n",
              "      document.body.appendChild(div);\n",
              "\n",
              "      const buffers = [];\n",
              "      let downloaded = 0;\n",
              "\n",
              "      const channel = await google.colab.kernel.comms.open(id);\n",
              "      // Send a message to notify the kernel that we're ready.\n",
              "      channel.send({})\n",
              "\n",
              "      for await (const message of channel.messages) {\n",
              "        // Send a message to notify the kernel that we're ready.\n",
              "        channel.send({})\n",
              "        if (message.buffers) {\n",
              "          for (const buffer of message.buffers) {\n",
              "            buffers.push(buffer);\n",
              "            downloaded += buffer.byteLength;\n",
              "            progress.value = downloaded;\n",
              "          }\n",
              "        }\n",
              "      }\n",
              "      const blob = new Blob(buffers, {type: 'application/binary'});\n",
              "      const a = document.createElement('a');\n",
              "      a.href = window.URL.createObjectURL(blob);\n",
              "      a.download = filename;\n",
              "      div.appendChild(a);\n",
              "      a.click();\n",
              "      div.remove();\n",
              "    }\n",
              "  "
            ],
            "text/plain": [
              "<IPython.core.display.Javascript object>"
            ]
          },
          "metadata": {
            "tags": []
          }
        },
        {
          "output_type": "display_data",
          "data": {
            "application/javascript": [
              "download(\"download_686535fc-7bb1-47e2-a9a4-f06d3c216e13\", \"women_children_first.csv\", 2839)"
            ],
            "text/plain": [
              "<IPython.core.display.Javascript object>"
            ]
          },
          "metadata": {
            "tags": []
          }
        },
        {
          "output_type": "execute_result",
          "data": {
            "application/vnd.google.colaboratory.intrinsic+json": {
              "type": "string"
            },
            "text/plain": [
              "'https://www.kaggle.com/aayushnm/competitions'"
            ]
          },
          "metadata": {
            "tags": []
          },
          "execution_count": 33
        }
      ]
    }
  ]
}